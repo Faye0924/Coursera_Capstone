{
 "cells": [
  {
   "cell_type": "markdown",
   "metadata": {},
   "source": [
    "# Capstone Project - The Battle of Neighborhoods - Search for Chinese Restaurant"
   ]
  },
  {
   "cell_type": "markdown",
   "metadata": {},
   "source": [
    "## Introduction  \n",
    "  A Chinese restaurant is an establishment that serves a Chinese cuisine. \n",
    "  \n",
    "  Chinese cuisine is an important part of Chinese culture, which includes cuisine originating from the diverse regions of China, as well as from Overseas Chinese who have settled in other parts of the world. Chinese food staples such as rice, dumpling, noodles, tea, and tofu, and utensils such as chopsticks and the wok, can now be found worldwide.  \n",
    "  \n",
    "  Many people including myself, love Chinese food, and always search for Chinese restaurants when traveling. However, Chinese cuisine is so diverse. The eight major traditions of Chinese cuisine are: Shandong cuisine, Sichuan cuisine, Cantonese cuisine, Fujian cuisine, Jiangsu cuisine, Zhejiang cuisine, Hunan cuisine, Anhui cuisine. Let along other traditional cuisine. In Foursquare, there are also Chinese restaurants belong to different categories, such as dim sum restaurants, dumpling restaurant, etc.  \n",
    "  \n",
    "  Therefore, if simply search for \"Chinese restaurants\", there will be some restaurants that actually belong to Chinese cuisine being left out. Also, some Foursquare data lack address or postalCode, which is essential for restaurant information. \n",
    "  \n",
    "  So, the purpose of this project is to get all, at least most, Chinese restaurants' name, address and postalCode for those who want to search for provide others' with Chinese restaurant information around a specific place.  "
   ]
  },
  {
   "cell_type": "markdown",
   "metadata": {},
   "source": [
    "## Data\n",
    "#### Coordinates data \n",
    "Source: use geopy to get coordinates data. https://geopy.readthedocs.io/en/stable/  \n",
    "\n",
    "Description: Includes searching places' and restaurants' latitude, longitude, address, etc. Latitude and longitude can used to get the postalCode and address for desired places; postalCode and address are part of Chinese restaurant information data provided for the final product, also for visualizing choropleth map.\n",
    "\n",
    "#### Restaurants data\n",
    "Source: Foursquare API\n",
    "\n",
    "Description: use Foursquare API to search for restaurants around a location, such as name, category, address, postalCode, etc. Then filter the data to get only clean Chinese restaurants information."
   ]
  },
  {
   "cell_type": "markdown",
   "metadata": {},
   "source": []
  }
 ],
 "metadata": {
  "kernelspec": {
   "display_name": "Python",
   "language": "python",
   "name": "conda-env-python-py"
  },
  "language_info": {
   "codemirror_mode": {
    "name": "ipython",
    "version": 3
   },
   "file_extension": ".py",
   "mimetype": "text/x-python",
   "name": "python",
   "nbconvert_exporter": "python",
   "pygments_lexer": "ipython3",
   "version": "3.6.11"
  }
 },
 "nbformat": 4,
 "nbformat_minor": 4
}
