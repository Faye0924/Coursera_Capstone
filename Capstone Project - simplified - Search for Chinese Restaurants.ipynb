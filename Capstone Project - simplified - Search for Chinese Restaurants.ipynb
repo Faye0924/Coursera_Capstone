{
 "cells": [
  {
   "cell_type": "markdown",
   "metadata": {},
   "source": [
    "# Capstone Project - The Battle of Neighborhoods - Search for Chinese Restaurant"
   ]
  },
  {
   "cell_type": "markdown",
   "metadata": {},
   "source": [
    "## Introduction  \n",
    "  A Chinese restaurant is an establishment that serves a Chinese cuisine. \n",
    "  \n",
    "  Chinese cuisine is an important part of Chinese culture, which includes cuisine originating from the diverse regions of China, as well as from Overseas Chinese who have settled in other parts of the world. Chinese food staples such as rice, dumpling, noodles, tea, and tofu, and utensils such as chopsticks and the wok, can now be found worldwide.  \n",
    "  \n",
    "  Many people including myself, love Chinese food, and always search for Chinese restaurants when traveling. However, Chinese cuisine is so diverse. The eight major traditions of Chinese cuisine are: Shandong cuisine, Sichuan cuisine, Cantonese cuisine, Fujian cuisine, Jiangsu cuisine, Zhejiang cuisine, Hunan cuisine, Anhui cuisine. Let along other traditional cuisine. In Foursquare, there are also Chinese restaurants belong to different categories, such as dim sum restaurants, dumpling restaurant, etc.  \n",
    "  \n",
    "  Therefore, if simply search for \"Chinese restaurants\", there will be some restaurants that actually belong to Chinese cuisine being left out. Also, some Foursquare data lack address or postalCode, which is essential for restaurant information. \n",
    "  \n",
    "  So, the purpose of this project is to get all, at least most, Chinese restaurants' name, address and postalCode worldwide, for those who want to search for or provide others with Chinese restaurants information around a specific place."
   ]
  },
  {
   "cell_type": "markdown",
   "metadata": {},
   "source": [
    "## Data\n",
    "#### Coordinates data \n",
    "Source: use geopy to get coordinates data. https://geopy.readthedocs.io/en/stable/  \n",
    "\n",
    "Description: Includes searching places' and restaurants' latitude, longitude, address, etc. Latitude and longitude can used to get the postalCode and address for desired places; postalCode and address are part of Chinese restaurant information data provided for the final product, also for visualizing choropleth map.\n",
    "\n",
    "#### Restaurants data\n",
    "Source: Foursquare API\n",
    "\n",
    "Description: use Foursquare API to search for restaurants around a location, such as name, category, address, postalCode, etc. Then filter the data to get only clean Chinese restaurants information."
   ]
  },
  {
   "cell_type": "markdown",
   "metadata": {},
   "source": [
    "## Methodology section  \n",
    "\n",
    "This section represents the main component of the report where the data is gathered, prepared for analysis and mapping. \n",
    "\n",
    "### Approach\n",
    "\n",
    "Use geopy library to get the latitude and longitude values of locations.  \n",
    "\n",
    "Use Foursquare API to search all restaurants around a location.  \n",
    "\n",
    "Clean the json and structure it into a pandas dataframe.  \n",
    "\n",
    "Get all Chinese restaurants information, which includes:  \n",
    "* Create a list to include all Chinese restaurants categories in Foursquare.\n",
    "* Use geopy library to replace NaN value in 'postalCode' and 'address' columns.\n",
    "* Select columns most related to audience for final display.\n",
    "\n",
    "Use Folium to Create a map of restaurants with name superimposed on top.\n",
    "\n",
    "## Methodology Execution"
   ]
  },
  {
   "cell_type": "markdown",
   "metadata": {},
   "source": [
    "#### Import necessary Libraries"
   ]
  },
  {
   "cell_type": "code",
   "execution_count": 1,
   "metadata": {},
   "outputs": [
    {
     "name": "stdout",
     "output_type": "stream",
     "text": [
      "Libraries imported.\n"
     ]
    }
   ],
   "source": [
    "import pandas as pd\n",
    "import numpy as np\n",
    "import requests\n",
    "from pandas.io.json import json_normalize\n",
    "#!conda install -c conda-forge geopy --yes \n",
    "from geopy.geocoders import Nominatim # module to convert an address into latitude and longitude values\n",
    "from pandas.io.json import json_normalize # transforming json file into a pandas dataframe library\n",
    "print('Libraries imported.')"
   ]
  },
  {
   "cell_type": "markdown",
   "metadata": {},
   "source": [
    "### Search all restaurants around a location. \n",
    "  Since the purpose of this project is to get Chinese restaurants information around a location worldwide, some top visited cities will be tested on the final project, which are selected from **List of cities by international visitors** https://en.wikipedia.org/wiki/List_of_cities_by_international_visitors   \n",
    "  \n",
    "  But first, for building this project, Los Angeles,CA is chosen to start with, since it's known to have many Chinese restaurants nearby.  "
   ]
  },
  {
   "cell_type": "markdown",
   "metadata": {},
   "source": [
    "#### Specify a searching location\n",
    "Note: location can be changed."
   ]
  },
  {
   "cell_type": "code",
   "execution_count": 2,
   "metadata": {},
   "outputs": [],
   "source": [
    "address = 'Los Angeles, CA' # This can be changed to your interested city or location."
   ]
  },
  {
   "cell_type": "markdown",
   "metadata": {},
   "source": [
    "#### Use geopy library to get the latitude and longitude values of the searching location."
   ]
  },
  {
   "cell_type": "code",
   "execution_count": 3,
   "metadata": {},
   "outputs": [
    {
     "name": "stdout",
     "output_type": "stream",
     "text": [
      "The geograpical coordinate of Los Angeles, CA are 34.0536909, -118.242766.\n"
     ]
    }
   ],
   "source": [
    "geolocator = Nominatim(user_agent=\"restaurant_explorer\")\n",
    "location = geolocator.geocode(address)\n",
    "latitude = location.latitude\n",
    "longitude = location.longitude\n",
    "print('The geograpical coordinate of {} are {}, {}.'.format(address, latitude, longitude))"
   ]
  },
  {
   "cell_type": "markdown",
   "metadata": {},
   "source": [
    "#### Utilizing the Foursquare API to search all restaurants around a location.\n",
    "Search \"restaurants\" instead of \"Chinese restaurant\" so no Chinese restaurants, such as dim sum restaurant will be left out."
   ]
  },
  {
   "cell_type": "code",
   "execution_count": 4,
   "metadata": {},
   "outputs": [],
   "source": [
    "# @hidden_cell\n",
    "# Define Foursquare Credentials and Version\n",
    "CLIENT_ID = '######' # Your Foursquare client_id\n",
    "CLIENT_SECRET = '######' # Your Foursquare client_secret\n",
    "VERSION = '20180605' # Foursquare API version"
   ]
  },
  {
   "cell_type": "code",
   "execution_count": 5,
   "metadata": {},
   "outputs": [],
   "source": [
    "# Define search_query, radius and limit\n",
    "search_query = 'restaurant'\n",
    "radius = 10000 # takes about 6 minutes to drive at 60 mph speed, radius number can be changed.\n",
    "LIMIT = 100"
   ]
  },
  {
   "cell_type": "code",
   "execution_count": 6,
   "metadata": {},
   "outputs": [
    {
     "data": {
      "text/plain": [
       "'https://api.foursquare.com/v2/venues/search?client_id=5RR4BF503NMA5Z3T1BVQDUFYH4D4KRESSO4TE1MCGVIUF4QC&client_secret=4KA5SMNYGO4GC5GE0QI4ROQRPMMFU5LS541FZ0NQWEH2Y5UB&ll=34.0536909,-118.242766&v=20180605&query=restaurant&radius=10000&limit=100'"
      ]
     },
     "execution_count": 6,
     "metadata": {},
     "output_type": "execute_result"
    }
   ],
   "source": [
    "# Define URL\n",
    "url = 'https://api.foursquare.com/v2/venues/search?client_id={}&client_secret={}&ll={},{}&v={}&query={}&radius={}&limit={}'.format(CLIENT_ID, CLIENT_SECRET, latitude, longitude, VERSION, search_query, radius, LIMIT)\n",
    "url"
   ]
  },
  {
   "cell_type": "markdown",
   "metadata": {},
   "source": [
    "Send GET request and examine results."
   ]
  },
  {
   "cell_type": "code",
   "execution_count": 7,
   "metadata": {},
   "outputs": [
    {
     "data": {
      "text/plain": [
       "{'id': '49ebc74af964a5202b671fe3',\n",
       " 'name': 'Yang Chow Restaurant',\n",
       " 'location': {'address': '819 N Broadway',\n",
       "  'crossStreet': 'btwn College & Alpine',\n",
       "  'lat': 34.06292584487055,\n",
       "  'lng': -118.2380586952736,\n",
       "  'labeledLatLngs': [{'label': 'display',\n",
       "    'lat': 34.06292584487055,\n",
       "    'lng': -118.2380586952736},\n",
       "   {'label': 'entrance', 'lat': 34.062969, 'lng': -118.238165}],\n",
       "  'distance': 1115,\n",
       "  'postalCode': '90012',\n",
       "  'cc': 'US',\n",
       "  'city': 'Los Angeles',\n",
       "  'state': 'CA',\n",
       "  'country': 'United States',\n",
       "  'formattedAddress': ['819 N Broadway (btwn College & Alpine)',\n",
       "   'Los Angeles, CA 90012',\n",
       "   'United States']},\n",
       " 'categories': [{'id': '4bf58dd8d48988d145941735',\n",
       "   'name': 'Chinese Restaurant',\n",
       "   'pluralName': 'Chinese Restaurants',\n",
       "   'shortName': 'Chinese',\n",
       "   'icon': {'prefix': 'https://ss3.4sqi.net/img/categories_v2/food/asian_',\n",
       "    'suffix': '.png'},\n",
       "   'primary': True}],\n",
       " 'venuePage': {'id': '48833648'},\n",
       " 'referralId': 'v-1621229225',\n",
       " 'hasPerk': False}"
      ]
     },
     "execution_count": 7,
     "metadata": {},
     "output_type": "execute_result"
    }
   ],
   "source": [
    "results = requests.get(url).json()\n",
    "# Get relevant part of JSON. \n",
    "venues = results['response']['venues']\n",
    "# Print sample JSON data.\n",
    "venues[1]"
   ]
  },
  {
   "cell_type": "markdown",
   "metadata": {},
   "source": [
    "### Clean the json and structure it into a *pandas* dataframe."
   ]
  },
  {
   "cell_type": "markdown",
   "metadata": {},
   "source": [
    "Build a function to extract the category of the venue."
   ]
  },
  {
   "cell_type": "code",
   "execution_count": 8,
   "metadata": {},
   "outputs": [],
   "source": [
    "# function that extracts the category of the venue\n",
    "def get_category_type(row):\n",
    "    if len(row) == 0:\n",
    "        return None\n",
    "    else:\n",
    "        return row[0]['name']"
   ]
  },
  {
   "cell_type": "markdown",
   "metadata": {},
   "source": [
    "#### Clean the json and structure it into a pandas dataframe."
   ]
  },
  {
   "cell_type": "code",
   "execution_count": 9,
   "metadata": {},
   "outputs": [
    {
     "name": "stderr",
     "output_type": "stream",
     "text": [
      "/home/jupyterlab/conda/envs/python/lib/python3.6/site-packages/ipykernel_launcher.py:2: FutureWarning: pandas.io.json.json_normalize is deprecated, use pandas.json_normalize instead\n",
      "  \n"
     ]
    },
    {
     "data": {
      "text/html": [
       "<div>\n",
       "<style scoped>\n",
       "    .dataframe tbody tr th:only-of-type {\n",
       "        vertical-align: middle;\n",
       "    }\n",
       "\n",
       "    .dataframe tbody tr th {\n",
       "        vertical-align: top;\n",
       "    }\n",
       "\n",
       "    .dataframe thead th {\n",
       "        text-align: right;\n",
       "    }\n",
       "</style>\n",
       "<table border=\"1\" class=\"dataframe\">\n",
       "  <thead>\n",
       "    <tr style=\"text-align: right;\">\n",
       "      <th></th>\n",
       "      <th>name</th>\n",
       "      <th>categories</th>\n",
       "      <th>address</th>\n",
       "      <th>distance</th>\n",
       "      <th>postalCode</th>\n",
       "      <th>lat</th>\n",
       "      <th>lng</th>\n",
       "    </tr>\n",
       "  </thead>\n",
       "  <tbody>\n",
       "    <tr>\n",
       "      <th>0</th>\n",
       "      <td>Noe Restaurant &amp; Bar</td>\n",
       "      <td>French Restaurant</td>\n",
       "      <td>251 S Olive St</td>\n",
       "      <td>771</td>\n",
       "      <td>90012</td>\n",
       "      <td>34.052290</td>\n",
       "      <td>-118.250963</td>\n",
       "    </tr>\n",
       "    <tr>\n",
       "      <th>1</th>\n",
       "      <td>Yang Chow Restaurant</td>\n",
       "      <td>Chinese Restaurant</td>\n",
       "      <td>819 N Broadway</td>\n",
       "      <td>1115</td>\n",
       "      <td>90012</td>\n",
       "      <td>34.062926</td>\n",
       "      <td>-118.238059</td>\n",
       "    </tr>\n",
       "    <tr>\n",
       "      <th>2</th>\n",
       "      <td>Mayflower Seafood Restaurant</td>\n",
       "      <td>Seafood Restaurant</td>\n",
       "      <td>679 N Spring St</td>\n",
       "      <td>782</td>\n",
       "      <td>90012</td>\n",
       "      <td>34.059582</td>\n",
       "      <td>-118.238129</td>\n",
       "    </tr>\n",
       "    <tr>\n",
       "      <th>3</th>\n",
       "      <td>Full House Seafood Restaurant</td>\n",
       "      <td>Chinese Restaurant</td>\n",
       "      <td>963 N Hill St</td>\n",
       "      <td>1457</td>\n",
       "      <td>90012</td>\n",
       "      <td>34.066155</td>\n",
       "      <td>-118.237916</td>\n",
       "    </tr>\n",
       "    <tr>\n",
       "      <th>4</th>\n",
       "      <td>Traxx Restaurant</td>\n",
       "      <td>New American Restaurant</td>\n",
       "      <td>800 N Alameda St</td>\n",
       "      <td>669</td>\n",
       "      <td>90012</td>\n",
       "      <td>34.056232</td>\n",
       "      <td>-118.236183</td>\n",
       "    </tr>\n",
       "  </tbody>\n",
       "</table>\n",
       "</div>"
      ],
      "text/plain": [
       "                            name               categories           address  \\\n",
       "0           Noe Restaurant & Bar        French Restaurant    251 S Olive St   \n",
       "1           Yang Chow Restaurant       Chinese Restaurant    819 N Broadway   \n",
       "2   Mayflower Seafood Restaurant       Seafood Restaurant   679 N Spring St   \n",
       "3  Full House Seafood Restaurant       Chinese Restaurant     963 N Hill St   \n",
       "4               Traxx Restaurant  New American Restaurant  800 N Alameda St   \n",
       "\n",
       "   distance postalCode        lat         lng  \n",
       "0       771      90012  34.052290 -118.250963  \n",
       "1      1115      90012  34.062926 -118.238059  \n",
       "2       782      90012  34.059582 -118.238129  \n",
       "3      1457      90012  34.066155 -118.237916  \n",
       "4       669      90012  34.056232 -118.236183  "
      ]
     },
     "execution_count": 9,
     "metadata": {},
     "output_type": "execute_result"
    }
   ],
   "source": [
    "## Process JSON and convert it to a clean dataframe\n",
    "venues_df = json_normalize(venues) # flatten JSON\n",
    "# filter columns\n",
    "filtered_columns = ['name', 'categories', 'location.address', 'location.distance', 'location.postalCode','location.lat', 'location.lng']\n",
    "venues_df = venues_df[filtered_columns]\n",
    "# filter the category for each row\n",
    "venues_df['categories'] = venues_df['categories'].apply(lambda x: get_category_type(x))\n",
    "# clean columns\n",
    "venues_df.columns = [col.split('.')[-1] for col in venues_df.columns]\n",
    "venues_df.head()"
   ]
  },
  {
   "cell_type": "markdown",
   "metadata": {},
   "source": [
    "#### Get only venues that 'categories' belong to 'restaurant'.  "
   ]
  },
  {
   "cell_type": "code",
   "execution_count": 10,
   "metadata": {},
   "outputs": [
    {
     "data": {
      "text/html": [
       "<div>\n",
       "<style scoped>\n",
       "    .dataframe tbody tr th:only-of-type {\n",
       "        vertical-align: middle;\n",
       "    }\n",
       "\n",
       "    .dataframe tbody tr th {\n",
       "        vertical-align: top;\n",
       "    }\n",
       "\n",
       "    .dataframe thead th {\n",
       "        text-align: right;\n",
       "    }\n",
       "</style>\n",
       "<table border=\"1\" class=\"dataframe\">\n",
       "  <thead>\n",
       "    <tr style=\"text-align: right;\">\n",
       "      <th></th>\n",
       "      <th>name</th>\n",
       "      <th>categories</th>\n",
       "      <th>address</th>\n",
       "      <th>distance</th>\n",
       "      <th>postalCode</th>\n",
       "      <th>lat</th>\n",
       "      <th>lng</th>\n",
       "    </tr>\n",
       "  </thead>\n",
       "  <tbody>\n",
       "    <tr>\n",
       "      <th>0</th>\n",
       "      <td>Noe Restaurant &amp; Bar</td>\n",
       "      <td>French Restaurant</td>\n",
       "      <td>251 S Olive St</td>\n",
       "      <td>771</td>\n",
       "      <td>90012</td>\n",
       "      <td>34.052290</td>\n",
       "      <td>-118.250963</td>\n",
       "    </tr>\n",
       "    <tr>\n",
       "      <th>1</th>\n",
       "      <td>Yang Chow Restaurant</td>\n",
       "      <td>Chinese Restaurant</td>\n",
       "      <td>819 N Broadway</td>\n",
       "      <td>1115</td>\n",
       "      <td>90012</td>\n",
       "      <td>34.062926</td>\n",
       "      <td>-118.238059</td>\n",
       "    </tr>\n",
       "    <tr>\n",
       "      <th>2</th>\n",
       "      <td>Mayflower Seafood Restaurant</td>\n",
       "      <td>Seafood Restaurant</td>\n",
       "      <td>679 N Spring St</td>\n",
       "      <td>782</td>\n",
       "      <td>90012</td>\n",
       "      <td>34.059582</td>\n",
       "      <td>-118.238129</td>\n",
       "    </tr>\n",
       "    <tr>\n",
       "      <th>3</th>\n",
       "      <td>Full House Seafood Restaurant</td>\n",
       "      <td>Chinese Restaurant</td>\n",
       "      <td>963 N Hill St</td>\n",
       "      <td>1457</td>\n",
       "      <td>90012</td>\n",
       "      <td>34.066155</td>\n",
       "      <td>-118.237916</td>\n",
       "    </tr>\n",
       "    <tr>\n",
       "      <th>4</th>\n",
       "      <td>Traxx Restaurant</td>\n",
       "      <td>New American Restaurant</td>\n",
       "      <td>800 N Alameda St</td>\n",
       "      <td>669</td>\n",
       "      <td>90012</td>\n",
       "      <td>34.056232</td>\n",
       "      <td>-118.236183</td>\n",
       "    </tr>\n",
       "  </tbody>\n",
       "</table>\n",
       "</div>"
      ],
      "text/plain": [
       "                            name               categories           address  \\\n",
       "0           Noe Restaurant & Bar        French Restaurant    251 S Olive St   \n",
       "1           Yang Chow Restaurant       Chinese Restaurant    819 N Broadway   \n",
       "2   Mayflower Seafood Restaurant       Seafood Restaurant   679 N Spring St   \n",
       "3  Full House Seafood Restaurant       Chinese Restaurant     963 N Hill St   \n",
       "4               Traxx Restaurant  New American Restaurant  800 N Alameda St   \n",
       "\n",
       "   distance postalCode        lat         lng  \n",
       "0       771      90012  34.052290 -118.250963  \n",
       "1      1115      90012  34.062926 -118.238059  \n",
       "2       782      90012  34.059582 -118.238129  \n",
       "3      1457      90012  34.066155 -118.237916  \n",
       "4       669      90012  34.056232 -118.236183  "
      ]
     },
     "execution_count": 10,
     "metadata": {},
     "output_type": "execute_result"
    }
   ],
   "source": [
    "# get only venues that 'categories' belong to 'restaurant' \n",
    "restaurants = venues_df[venues_df['categories'].astype(str).str.contains('Restaurant')].reset_index(drop=True)\n",
    "restaurants.head()"
   ]
  },
  {
   "cell_type": "markdown",
   "metadata": {},
   "source": [
    "### Get all Chinese restaurants information.  \n",
    "  Now we've got all the restaurants information around a location, it's time to specify categories to our desired restaurants.  \n",
    "#### Check 'categories' to see how many unique restaurant categories we have around this location."
   ]
  },
  {
   "cell_type": "code",
   "execution_count": 11,
   "metadata": {},
   "outputs": [
    {
     "data": {
      "text/plain": [
       "array(['French Restaurant', 'Chinese Restaurant', 'Seafood Restaurant',\n",
       "       'New American Restaurant', 'Mexican Restaurant',\n",
       "       'Asian Restaurant', 'American Restaurant',\n",
       "       'Latin American Restaurant', 'Italian Restaurant',\n",
       "       'Korean BBQ Restaurant', 'Sushi Restaurant',\n",
       "       'Mediterranean Restaurant', 'Indian Restaurant', 'Restaurant',\n",
       "       'Korean Restaurant', 'Japanese Restaurant', 'Thai Restaurant',\n",
       "       'Spanish Restaurant', 'Dim Sum Restaurant'], dtype=object)"
      ]
     },
     "execution_count": 11,
     "metadata": {},
     "output_type": "execute_result"
    }
   ],
   "source": [
    "# get unique 'categories'\n",
    "restaurants['categories'].unique()"
   ]
  },
  {
   "cell_type": "markdown",
   "metadata": {},
   "source": [
    "  Apparently, there's a big chance 'Asian Restaurant' will serve chinese food, but it could also be Japanese or Korean restaurant. For this project, I'll keep this category.   \n",
    "  Running above code several times on different locations, I've also found some other facts, such as 'Dim Sum Restaurant', 'Hotpot Restaurant', 'Peking Duck Restaurant', 'Dumpling Restaurant', etc. Therefore, those catergories will be added to the **chinese_restaurants_list** in the following code cell.  "
   ]
  },
  {
   "cell_type": "markdown",
   "metadata": {},
   "source": [
    "  In order to be more accurate, some other chinese cuisine mentioned in **List of Chinese cuisine**: https://en.wikipedia.org/wiki/Chinese_cuisine will also be added to **chinese_restaurant_list**. I've added the eight major cuisine and some other categories based on my personal perference from list below:\n",
    "#### The eight major traditions of Chinese cuisine:  \n",
    "Shandong cuisine, Sichuan cuisine, Cantonese cuisine, Fujian cuisine, Jiangsu cuisine, Zhejiang cuisine, Hunan cuisine, Anhui cuisine\n",
    "#### Other traditions in Chinese cuisine: \n",
    "Beijing cuisine, Chinese imperial cuisine, Guizhou cuisine, Henan cuisine, Huaiyang cuisine, Hubei cuisine, Jiangxi cuisine, Shaanxi cuisine, Shanghai cuisine, Shanxi cuisine, Teochew cuisine"
   ]
  },
  {
   "cell_type": "markdown",
   "metadata": {},
   "source": [
    "#### Create a list to include other categories that didn't list as 'Chinese Restaurant' in Foursquare.  \n",
    "Note: You can modify **chinese_restaurants_list** to include more/less categories, or even create your own list, such as japanese_restaurants_list, korean_restaurants_list, indian_restaurants_list, italian_restaurants_list, etc."
   ]
  },
  {
   "cell_type": "code",
   "execution_count": 12,
   "metadata": {},
   "outputs": [
    {
     "data": {
      "text/html": [
       "<div>\n",
       "<style scoped>\n",
       "    .dataframe tbody tr th:only-of-type {\n",
       "        vertical-align: middle;\n",
       "    }\n",
       "\n",
       "    .dataframe tbody tr th {\n",
       "        vertical-align: top;\n",
       "    }\n",
       "\n",
       "    .dataframe thead th {\n",
       "        text-align: right;\n",
       "    }\n",
       "</style>\n",
       "<table border=\"1\" class=\"dataframe\">\n",
       "  <thead>\n",
       "    <tr style=\"text-align: right;\">\n",
       "      <th></th>\n",
       "      <th>name</th>\n",
       "      <th>categories</th>\n",
       "      <th>address</th>\n",
       "      <th>distance</th>\n",
       "      <th>postalCode</th>\n",
       "      <th>lat</th>\n",
       "      <th>lng</th>\n",
       "    </tr>\n",
       "  </thead>\n",
       "  <tbody>\n",
       "    <tr>\n",
       "      <th>0</th>\n",
       "      <td>Yang Chow Restaurant</td>\n",
       "      <td>Chinese Restaurant</td>\n",
       "      <td>819 N Broadway</td>\n",
       "      <td>1115</td>\n",
       "      <td>90012</td>\n",
       "      <td>34.062926</td>\n",
       "      <td>-118.238059</td>\n",
       "    </tr>\n",
       "    <tr>\n",
       "      <th>1</th>\n",
       "      <td>Full House Seafood Restaurant</td>\n",
       "      <td>Chinese Restaurant</td>\n",
       "      <td>963 N Hill St</td>\n",
       "      <td>1457</td>\n",
       "      <td>90012</td>\n",
       "      <td>34.066155</td>\n",
       "      <td>-118.237916</td>\n",
       "    </tr>\n",
       "    <tr>\n",
       "      <th>2</th>\n",
       "      <td>Wok Inn Restaurant</td>\n",
       "      <td>Asian Restaurant</td>\n",
       "      <td>201 N Los Angeles St Ste 102</td>\n",
       "      <td>116</td>\n",
       "      <td>90012</td>\n",
       "      <td>34.054317</td>\n",
       "      <td>-118.241752</td>\n",
       "    </tr>\n",
       "    <tr>\n",
       "      <th>3</th>\n",
       "      <td>Taipan Restaurant</td>\n",
       "      <td>Chinese Restaurant</td>\n",
       "      <td>330 S Hope St</td>\n",
       "      <td>889</td>\n",
       "      <td>90071</td>\n",
       "      <td>34.052405</td>\n",
       "      <td>-118.252288</td>\n",
       "    </tr>\n",
       "    <tr>\n",
       "      <th>4</th>\n",
       "      <td>Won Kok Restaurant</td>\n",
       "      <td>Chinese Restaurant</td>\n",
       "      <td>210 Alpine St</td>\n",
       "      <td>1040</td>\n",
       "      <td>90012</td>\n",
       "      <td>34.061958</td>\n",
       "      <td>-118.237509</td>\n",
       "    </tr>\n",
       "  </tbody>\n",
       "</table>\n",
       "</div>"
      ],
      "text/plain": [
       "                            name          categories  \\\n",
       "0           Yang Chow Restaurant  Chinese Restaurant   \n",
       "1  Full House Seafood Restaurant  Chinese Restaurant   \n",
       "2             Wok Inn Restaurant    Asian Restaurant   \n",
       "3              Taipan Restaurant  Chinese Restaurant   \n",
       "4             Won Kok Restaurant  Chinese Restaurant   \n",
       "\n",
       "                        address  distance postalCode        lat         lng  \n",
       "0                819 N Broadway      1115      90012  34.062926 -118.238059  \n",
       "1                 963 N Hill St      1457      90012  34.066155 -118.237916  \n",
       "2  201 N Los Angeles St Ste 102       116      90012  34.054317 -118.241752  \n",
       "3                 330 S Hope St       889      90071  34.052405 -118.252288  \n",
       "4                 210 Alpine St      1040      90012  34.061958 -118.237509  "
      ]
     },
     "execution_count": 12,
     "metadata": {},
     "output_type": "execute_result"
    }
   ],
   "source": [
    "# create a Chinese restaurant list based on my perference.\n",
    "chinese_restaurants_list = ['Dim Sum Restaurant', \n",
    "                            'Szechuan Restaurant',\n",
    "                            'Chinese Restaurant', \n",
    "                            'Cantonese Restaurant', \n",
    "                            'Asian Restaurant',  # this category may include other Asian Restaurant, such as Japanese Restaurant, Korean Restaurant, etc.\n",
    "                            'Hotpot Restaurant',\n",
    "                            'Peking Duck Restaurant',\n",
    "                            'Shanxi Restaurant',\n",
    "                            'Beijing Restaurant',\n",
    "                            'Xinjiang Restaurant',\n",
    "                            'Hong Kong Restaurant',\n",
    "                            'Dumpling Restaurant',\n",
    "                            'Yunnan Restaurant',\n",
    "                            'Shandong Restaurant',\n",
    "                            'Fujian Restaurant', \n",
    "                            'Jiangsu Restaurant',\n",
    "                            'Zhejiang Restaurant',\n",
    "                            'Hunan Restaurant',\n",
    "                            'Anhui Restaurant',\n",
    "                           ] # this can be changed according to personal perference, just be sure to add ' Restaurant' as suffix\n",
    "chinese_restaurants = restaurants[restaurants['categories'].isin(chinese_restaurants_list)].reset_index(drop=True)\n",
    "chinese_restaurants.head()"
   ]
  },
  {
   "cell_type": "markdown",
   "metadata": {},
   "source": [
    "#### Replace NaN value in 'postalCode' and 'address' columns.  \n",
    "When testing the code on some location, such as 'Los Angeles, CA', some **NaN value** shows up in postalCode or address. Those NaN value will be filled by using Geopy library.  "
   ]
  },
  {
   "cell_type": "code",
   "execution_count": 13,
   "metadata": {},
   "outputs": [
    {
     "data": {
      "text/html": [
       "<div>\n",
       "<style scoped>\n",
       "    .dataframe tbody tr th:only-of-type {\n",
       "        vertical-align: middle;\n",
       "    }\n",
       "\n",
       "    .dataframe tbody tr th {\n",
       "        vertical-align: top;\n",
       "    }\n",
       "\n",
       "    .dataframe thead th {\n",
       "        text-align: right;\n",
       "    }\n",
       "</style>\n",
       "<table border=\"1\" class=\"dataframe\">\n",
       "  <thead>\n",
       "    <tr style=\"text-align: right;\">\n",
       "      <th></th>\n",
       "      <th>name</th>\n",
       "      <th>categories</th>\n",
       "      <th>address</th>\n",
       "      <th>distance</th>\n",
       "      <th>postalCode</th>\n",
       "      <th>lat</th>\n",
       "      <th>lng</th>\n",
       "      <th>lat_lng</th>\n",
       "    </tr>\n",
       "  </thead>\n",
       "  <tbody>\n",
       "    <tr>\n",
       "      <th>0</th>\n",
       "      <td>Yang Chow Restaurant</td>\n",
       "      <td>Chinese Restaurant</td>\n",
       "      <td>819 N Broadway</td>\n",
       "      <td>1115</td>\n",
       "      <td>90012</td>\n",
       "      <td>34.062926</td>\n",
       "      <td>-118.238059</td>\n",
       "      <td>34.062926, -118.238059</td>\n",
       "    </tr>\n",
       "    <tr>\n",
       "      <th>1</th>\n",
       "      <td>Full House Seafood Restaurant</td>\n",
       "      <td>Chinese Restaurant</td>\n",
       "      <td>963 N Hill St</td>\n",
       "      <td>1457</td>\n",
       "      <td>90012</td>\n",
       "      <td>34.066155</td>\n",
       "      <td>-118.237916</td>\n",
       "      <td>34.066155, -118.237916</td>\n",
       "    </tr>\n",
       "    <tr>\n",
       "      <th>2</th>\n",
       "      <td>Wok Inn Restaurant</td>\n",
       "      <td>Asian Restaurant</td>\n",
       "      <td>201 N Los Angeles St Ste 102</td>\n",
       "      <td>116</td>\n",
       "      <td>90012</td>\n",
       "      <td>34.054317</td>\n",
       "      <td>-118.241752</td>\n",
       "      <td>34.054317, -118.241752</td>\n",
       "    </tr>\n",
       "    <tr>\n",
       "      <th>3</th>\n",
       "      <td>Taipan Restaurant</td>\n",
       "      <td>Chinese Restaurant</td>\n",
       "      <td>330 S Hope St</td>\n",
       "      <td>889</td>\n",
       "      <td>90071</td>\n",
       "      <td>34.052405</td>\n",
       "      <td>-118.252288</td>\n",
       "      <td>34.052405, -118.252288</td>\n",
       "    </tr>\n",
       "    <tr>\n",
       "      <th>4</th>\n",
       "      <td>Won Kok Restaurant</td>\n",
       "      <td>Chinese Restaurant</td>\n",
       "      <td>210 Alpine St</td>\n",
       "      <td>1040</td>\n",
       "      <td>90012</td>\n",
       "      <td>34.061958</td>\n",
       "      <td>-118.237509</td>\n",
       "      <td>34.061958, -118.237509</td>\n",
       "    </tr>\n",
       "  </tbody>\n",
       "</table>\n",
       "</div>"
      ],
      "text/plain": [
       "                            name          categories  \\\n",
       "0           Yang Chow Restaurant  Chinese Restaurant   \n",
       "1  Full House Seafood Restaurant  Chinese Restaurant   \n",
       "2             Wok Inn Restaurant    Asian Restaurant   \n",
       "3              Taipan Restaurant  Chinese Restaurant   \n",
       "4             Won Kok Restaurant  Chinese Restaurant   \n",
       "\n",
       "                        address  distance postalCode        lat          lng  \\\n",
       "0                819 N Broadway      1115      90012  34.062926  -118.238059   \n",
       "1                 963 N Hill St      1457      90012  34.066155  -118.237916   \n",
       "2  201 N Los Angeles St Ste 102       116      90012  34.054317  -118.241752   \n",
       "3                 330 S Hope St       889      90071  34.052405  -118.252288   \n",
       "4                 210 Alpine St      1040      90012  34.061958  -118.237509   \n",
       "\n",
       "                  lat_lng  \n",
       "0  34.062926, -118.238059  \n",
       "1  34.066155, -118.237916  \n",
       "2  34.054317, -118.241752  \n",
       "3  34.052405, -118.252288  \n",
       "4  34.061958, -118.237509  "
      ]
     },
     "execution_count": 13,
     "metadata": {},
     "output_type": "execute_result"
    }
   ],
   "source": [
    "# create a new column 'lat_lng'\n",
    "chinese_restaurants['lat'] = chinese_restaurants['lat'].apply(lambda x: '%.6f' % x)\n",
    "chinese_restaurants['lng'] = chinese_restaurants['lng'].apply(lambda x: '%.6f' % x)\n",
    "chinese_restaurants['lat_lng'] = chinese_restaurants['lat'].astype(str) + ', ' + chinese_restaurants['lng'].astype(str)\n",
    "chinese_restaurants.head()"
   ]
  },
  {
   "cell_type": "markdown",
   "metadata": {},
   "source": [
    "Build functions to get postalCode or address."
   ]
  },
  {
   "cell_type": "code",
   "execution_count": 14,
   "metadata": {},
   "outputs": [],
   "source": [
    "# build a function to get postalCode for restaurant if none exists.\n",
    "def get_postcode(row):\n",
    "    ind = row['lat_lng']\n",
    "    row['postalCode'] = str(row['postalCode'])\n",
    "    if row['postalCode'] == \"nan\":\n",
    "        postcode = geolocator.reverse(ind).address.split(',')[-2]\n",
    "        return postcode[:7]\n",
    "    else:\n",
    "        return row['postalCode']"
   ]
  },
  {
   "cell_type": "code",
   "execution_count": 15,
   "metadata": {},
   "outputs": [],
   "source": [
    "# build a function to get address for restaurant if none exists.\n",
    "def get_address(row):\n",
    "    ind = row['lat_lng']\n",
    "    row['address'] = str(row['address'])\n",
    "    if row['address'] == \"nan\":\n",
    "        address = geolocator.reverse(ind).address.split(',')[0] + geolocator.reverse(ind).address.split(',')[1]\n",
    "        return address\n",
    "    else:\n",
    "        return row['address']"
   ]
  },
  {
   "cell_type": "markdown",
   "metadata": {},
   "source": [
    "Apply functions to replace NaN value in 'postalCode' and 'address'."
   ]
  },
  {
   "cell_type": "code",
   "execution_count": 16,
   "metadata": {},
   "outputs": [
    {
     "data": {
      "text/html": [
       "<div>\n",
       "<style scoped>\n",
       "    .dataframe tbody tr th:only-of-type {\n",
       "        vertical-align: middle;\n",
       "    }\n",
       "\n",
       "    .dataframe tbody tr th {\n",
       "        vertical-align: top;\n",
       "    }\n",
       "\n",
       "    .dataframe thead th {\n",
       "        text-align: right;\n",
       "    }\n",
       "</style>\n",
       "<table border=\"1\" class=\"dataframe\">\n",
       "  <thead>\n",
       "    <tr style=\"text-align: right;\">\n",
       "      <th></th>\n",
       "      <th>name</th>\n",
       "      <th>categories</th>\n",
       "      <th>address</th>\n",
       "      <th>distance</th>\n",
       "      <th>postalCode</th>\n",
       "      <th>lat</th>\n",
       "      <th>lng</th>\n",
       "      <th>lat_lng</th>\n",
       "    </tr>\n",
       "  </thead>\n",
       "  <tbody>\n",
       "    <tr>\n",
       "      <th>0</th>\n",
       "      <td>Yang Chow Restaurant</td>\n",
       "      <td>Chinese Restaurant</td>\n",
       "      <td>819 N Broadway</td>\n",
       "      <td>1115</td>\n",
       "      <td>90012</td>\n",
       "      <td>34.062926</td>\n",
       "      <td>-118.238059</td>\n",
       "      <td>34.062926, -118.238059</td>\n",
       "    </tr>\n",
       "    <tr>\n",
       "      <th>1</th>\n",
       "      <td>Full House Seafood Restaurant</td>\n",
       "      <td>Chinese Restaurant</td>\n",
       "      <td>963 N Hill St</td>\n",
       "      <td>1457</td>\n",
       "      <td>90012</td>\n",
       "      <td>34.066155</td>\n",
       "      <td>-118.237916</td>\n",
       "      <td>34.066155, -118.237916</td>\n",
       "    </tr>\n",
       "    <tr>\n",
       "      <th>2</th>\n",
       "      <td>Wok Inn Restaurant</td>\n",
       "      <td>Asian Restaurant</td>\n",
       "      <td>201 N Los Angeles St Ste 102</td>\n",
       "      <td>116</td>\n",
       "      <td>90012</td>\n",
       "      <td>34.054317</td>\n",
       "      <td>-118.241752</td>\n",
       "      <td>34.054317, -118.241752</td>\n",
       "    </tr>\n",
       "    <tr>\n",
       "      <th>3</th>\n",
       "      <td>Taipan Restaurant</td>\n",
       "      <td>Chinese Restaurant</td>\n",
       "      <td>330 S Hope St</td>\n",
       "      <td>889</td>\n",
       "      <td>90071</td>\n",
       "      <td>34.052405</td>\n",
       "      <td>-118.252288</td>\n",
       "      <td>34.052405, -118.252288</td>\n",
       "    </tr>\n",
       "    <tr>\n",
       "      <th>4</th>\n",
       "      <td>Won Kok Restaurant</td>\n",
       "      <td>Chinese Restaurant</td>\n",
       "      <td>210 Alpine St</td>\n",
       "      <td>1040</td>\n",
       "      <td>90012</td>\n",
       "      <td>34.061958</td>\n",
       "      <td>-118.237509</td>\n",
       "      <td>34.061958, -118.237509</td>\n",
       "    </tr>\n",
       "  </tbody>\n",
       "</table>\n",
       "</div>"
      ],
      "text/plain": [
       "                            name          categories  \\\n",
       "0           Yang Chow Restaurant  Chinese Restaurant   \n",
       "1  Full House Seafood Restaurant  Chinese Restaurant   \n",
       "2             Wok Inn Restaurant    Asian Restaurant   \n",
       "3              Taipan Restaurant  Chinese Restaurant   \n",
       "4             Won Kok Restaurant  Chinese Restaurant   \n",
       "\n",
       "                        address  distance postalCode        lat          lng  \\\n",
       "0                819 N Broadway      1115      90012  34.062926  -118.238059   \n",
       "1                 963 N Hill St      1457      90012  34.066155  -118.237916   \n",
       "2  201 N Los Angeles St Ste 102       116      90012  34.054317  -118.241752   \n",
       "3                 330 S Hope St       889      90071  34.052405  -118.252288   \n",
       "4                 210 Alpine St      1040      90012  34.061958  -118.237509   \n",
       "\n",
       "                  lat_lng  \n",
       "0  34.062926, -118.238059  \n",
       "1  34.066155, -118.237916  \n",
       "2  34.054317, -118.241752  \n",
       "3  34.052405, -118.252288  \n",
       "4  34.061958, -118.237509  "
      ]
     },
     "execution_count": 16,
     "metadata": {},
     "output_type": "execute_result"
    }
   ],
   "source": [
    "# apply functions\n",
    "chinese_restaurants['postalCode'] = chinese_restaurants.apply(lambda x: get_postcode(x), axis=1)\n",
    "chinese_restaurants['address'] = chinese_restaurants.apply(lambda x: get_address(x), axis=1)\n",
    "chinese_restaurants.head()"
   ]
  },
  {
   "cell_type": "markdown",
   "metadata": {},
   "source": [
    "#### Select columns most related to audience."
   ]
  },
  {
   "cell_type": "code",
   "execution_count": 17,
   "metadata": {},
   "outputs": [
    {
     "data": {
      "text/html": [
       "<div>\n",
       "<style scoped>\n",
       "    .dataframe tbody tr th:only-of-type {\n",
       "        vertical-align: middle;\n",
       "    }\n",
       "\n",
       "    .dataframe tbody tr th {\n",
       "        vertical-align: top;\n",
       "    }\n",
       "\n",
       "    .dataframe thead th {\n",
       "        text-align: right;\n",
       "    }\n",
       "</style>\n",
       "<table border=\"1\" class=\"dataframe\">\n",
       "  <thead>\n",
       "    <tr style=\"text-align: right;\">\n",
       "      <th></th>\n",
       "      <th>name</th>\n",
       "      <th>categories</th>\n",
       "      <th>address</th>\n",
       "      <th>distance</th>\n",
       "      <th>postalCode</th>\n",
       "    </tr>\n",
       "  </thead>\n",
       "  <tbody>\n",
       "    <tr>\n",
       "      <th>0</th>\n",
       "      <td>Yang Chow Restaurant</td>\n",
       "      <td>Chinese Restaurant</td>\n",
       "      <td>819 N Broadway</td>\n",
       "      <td>1115</td>\n",
       "      <td>90012</td>\n",
       "    </tr>\n",
       "    <tr>\n",
       "      <th>1</th>\n",
       "      <td>Full House Seafood Restaurant</td>\n",
       "      <td>Chinese Restaurant</td>\n",
       "      <td>963 N Hill St</td>\n",
       "      <td>1457</td>\n",
       "      <td>90012</td>\n",
       "    </tr>\n",
       "    <tr>\n",
       "      <th>2</th>\n",
       "      <td>Wok Inn Restaurant</td>\n",
       "      <td>Asian Restaurant</td>\n",
       "      <td>201 N Los Angeles St Ste 102</td>\n",
       "      <td>116</td>\n",
       "      <td>90012</td>\n",
       "    </tr>\n",
       "    <tr>\n",
       "      <th>3</th>\n",
       "      <td>Taipan Restaurant</td>\n",
       "      <td>Chinese Restaurant</td>\n",
       "      <td>330 S Hope St</td>\n",
       "      <td>889</td>\n",
       "      <td>90071</td>\n",
       "    </tr>\n",
       "    <tr>\n",
       "      <th>4</th>\n",
       "      <td>Won Kok Restaurant</td>\n",
       "      <td>Chinese Restaurant</td>\n",
       "      <td>210 Alpine St</td>\n",
       "      <td>1040</td>\n",
       "      <td>90012</td>\n",
       "    </tr>\n",
       "    <tr>\n",
       "      <th>5</th>\n",
       "      <td>Keung Kee B.B.Q. Restaurant</td>\n",
       "      <td>Chinese Restaurant</td>\n",
       "      <td>420 Ord St</td>\n",
       "      <td>790</td>\n",
       "      <td>90012</td>\n",
       "    </tr>\n",
       "    <tr>\n",
       "      <th>6</th>\n",
       "      <td>Little Sagion International Restaurant Group H...</td>\n",
       "      <td>Asian Restaurant</td>\n",
       "      <td>Los Angeles</td>\n",
       "      <td>457</td>\n",
       "      <td>90013</td>\n",
       "    </tr>\n",
       "    <tr>\n",
       "      <th>7</th>\n",
       "      <td>NBC Seafood Restaurant</td>\n",
       "      <td>Dim Sum Restaurant</td>\n",
       "      <td>404 S Atlantic Blvd Ste A</td>\n",
       "      <td>10124</td>\n",
       "      <td>91754</td>\n",
       "    </tr>\n",
       "    <tr>\n",
       "      <th>8</th>\n",
       "      <td>Hop Woo BBQ Seafood Restaurant</td>\n",
       "      <td>Chinese Restaurant</td>\n",
       "      <td>845 N Broadway</td>\n",
       "      <td>1203</td>\n",
       "      <td>90012</td>\n",
       "    </tr>\n",
       "    <tr>\n",
       "      <th>9</th>\n",
       "      <td>Hong Kong BBQ Restaurant</td>\n",
       "      <td>Chinese Restaurant</td>\n",
       "      <td>803 N Broadway</td>\n",
       "      <td>1067</td>\n",
       "      <td>90012</td>\n",
       "    </tr>\n",
       "  </tbody>\n",
       "</table>\n",
       "</div>"
      ],
      "text/plain": [
       "                                                name          categories  \\\n",
       "0                               Yang Chow Restaurant  Chinese Restaurant   \n",
       "1                      Full House Seafood Restaurant  Chinese Restaurant   \n",
       "2                                 Wok Inn Restaurant    Asian Restaurant   \n",
       "3                                  Taipan Restaurant  Chinese Restaurant   \n",
       "4                                 Won Kok Restaurant  Chinese Restaurant   \n",
       "5                        Keung Kee B.B.Q. Restaurant  Chinese Restaurant   \n",
       "6  Little Sagion International Restaurant Group H...    Asian Restaurant   \n",
       "7                             NBC Seafood Restaurant  Dim Sum Restaurant   \n",
       "8                     Hop Woo BBQ Seafood Restaurant  Chinese Restaurant   \n",
       "9                           Hong Kong BBQ Restaurant  Chinese Restaurant   \n",
       "\n",
       "                        address  distance postalCode  \n",
       "0                819 N Broadway      1115      90012  \n",
       "1                 963 N Hill St      1457      90012  \n",
       "2  201 N Los Angeles St Ste 102       116      90012  \n",
       "3                 330 S Hope St       889      90071  \n",
       "4                 210 Alpine St      1040      90012  \n",
       "5                    420 Ord St       790      90012  \n",
       "6                   Los Angeles       457      90013  \n",
       "7     404 S Atlantic Blvd Ste A     10124      91754  \n",
       "8                845 N Broadway      1203      90012  \n",
       "9                803 N Broadway      1067      90012  "
      ]
     },
     "execution_count": 17,
     "metadata": {},
     "output_type": "execute_result"
    }
   ],
   "source": [
    "# Drop 'lat', 'lng', 'lat_lng' columns.\n",
    "chinese_restaurants_display = chinese_restaurants.drop(columns = ['lat', 'lng', 'lat_lng'])\n",
    "chinese_restaurants_display"
   ]
  },
  {
   "cell_type": "markdown",
   "metadata": {},
   "source": [
    "  Now, we've got all the Chinese restaurants information for one location, 'Los Angeles, CA' for now.   \n",
    "  But, I've tested it on several other locations, such as 'New York city, NY', 'Shanghai, China', 'London, UK', 'Tokyo, Japan', etc.   \n",
    "  I'll display them in the **Results section**."
   ]
  },
  {
   "cell_type": "markdown",
   "metadata": {},
   "source": [
    "### Create a map of restaurants with name superimposed on top."
   ]
  },
  {
   "cell_type": "markdown",
   "metadata": {},
   "source": [
    "Import libraries"
   ]
  },
  {
   "cell_type": "code",
   "execution_count": 18,
   "metadata": {},
   "outputs": [
    {
     "name": "stdout",
     "output_type": "stream",
     "text": [
      "Libraries imported.\n"
     ]
    }
   ],
   "source": [
    "# Matplotlib and associated plotting modules\n",
    "import matplotlib.cm as cm\n",
    "import matplotlib.colors as colors\n",
    "#!conda install -c conda-forge folium=0.5.0 --yes \n",
    "import folium # map rendering library\n",
    "print(\"Libraries imported.\")"
   ]
  },
  {
   "cell_type": "markdown",
   "metadata": {},
   "source": [
    "#### Create map of restaurants."
   ]
  },
  {
   "cell_type": "code",
   "execution_count": 19,
   "metadata": {},
   "outputs": [
    {
     "data": {
      "text/html": [
       "<div style=\"width:100%;\"><div style=\"position:relative;width:100%;height:0;padding-bottom:60%;\"><span style=\"color:#565656\">Make this Notebook Trusted to load map: File -> Trust Notebook</span><iframe src=\"about:blank\" style=\"position:absolute;width:100%;height:100%;left:0;top:0;border:none !important;\" data-html=%3C%21DOCTYPE%20html%3E%0A%3Chead%3E%20%20%20%20%0A%20%20%20%20%3Cmeta%20http-equiv%3D%22content-type%22%20content%3D%22text/html%3B%20charset%3DUTF-8%22%20/%3E%0A%20%20%20%20%3Cscript%3EL_PREFER_CANVAS%20%3D%20false%3B%20L_NO_TOUCH%20%3D%20false%3B%20L_DISABLE_3D%20%3D%20false%3B%3C/script%3E%0A%20%20%20%20%3Cscript%20src%3D%22https%3A//cdn.jsdelivr.net/npm/leaflet%401.2.0/dist/leaflet.js%22%3E%3C/script%3E%0A%20%20%20%20%3Cscript%20src%3D%22https%3A//ajax.googleapis.com/ajax/libs/jquery/1.11.1/jquery.min.js%22%3E%3C/script%3E%0A%20%20%20%20%3Cscript%20src%3D%22https%3A//maxcdn.bootstrapcdn.com/bootstrap/3.2.0/js/bootstrap.min.js%22%3E%3C/script%3E%0A%20%20%20%20%3Cscript%20src%3D%22https%3A//cdnjs.cloudflare.com/ajax/libs/Leaflet.awesome-markers/2.0.2/leaflet.awesome-markers.js%22%3E%3C/script%3E%0A%20%20%20%20%3Clink%20rel%3D%22stylesheet%22%20href%3D%22https%3A//cdn.jsdelivr.net/npm/leaflet%401.2.0/dist/leaflet.css%22/%3E%0A%20%20%20%20%3Clink%20rel%3D%22stylesheet%22%20href%3D%22https%3A//maxcdn.bootstrapcdn.com/bootstrap/3.2.0/css/bootstrap.min.css%22/%3E%0A%20%20%20%20%3Clink%20rel%3D%22stylesheet%22%20href%3D%22https%3A//maxcdn.bootstrapcdn.com/bootstrap/3.2.0/css/bootstrap-theme.min.css%22/%3E%0A%20%20%20%20%3Clink%20rel%3D%22stylesheet%22%20href%3D%22https%3A//maxcdn.bootstrapcdn.com/font-awesome/4.6.3/css/font-awesome.min.css%22/%3E%0A%20%20%20%20%3Clink%20rel%3D%22stylesheet%22%20href%3D%22https%3A//cdnjs.cloudflare.com/ajax/libs/Leaflet.awesome-markers/2.0.2/leaflet.awesome-markers.css%22/%3E%0A%20%20%20%20%3Clink%20rel%3D%22stylesheet%22%20href%3D%22https%3A//rawgit.com/python-visualization/folium/master/folium/templates/leaflet.awesome.rotate.css%22/%3E%0A%20%20%20%20%3Cstyle%3Ehtml%2C%20body%20%7Bwidth%3A%20100%25%3Bheight%3A%20100%25%3Bmargin%3A%200%3Bpadding%3A%200%3B%7D%3C/style%3E%0A%20%20%20%20%3Cstyle%3E%23map%20%7Bposition%3Aabsolute%3Btop%3A0%3Bbottom%3A0%3Bright%3A0%3Bleft%3A0%3B%7D%3C/style%3E%0A%20%20%20%20%0A%20%20%20%20%20%20%20%20%20%20%20%20%3Cstyle%3E%20%23map_532fbad040a54326b255b7bf96b79a84%20%7B%0A%20%20%20%20%20%20%20%20%20%20%20%20%20%20%20%20position%20%3A%20relative%3B%0A%20%20%20%20%20%20%20%20%20%20%20%20%20%20%20%20width%20%3A%20100.0%25%3B%0A%20%20%20%20%20%20%20%20%20%20%20%20%20%20%20%20height%3A%20100.0%25%3B%0A%20%20%20%20%20%20%20%20%20%20%20%20%20%20%20%20left%3A%200.0%25%3B%0A%20%20%20%20%20%20%20%20%20%20%20%20%20%20%20%20top%3A%200.0%25%3B%0A%20%20%20%20%20%20%20%20%20%20%20%20%20%20%20%20%7D%0A%20%20%20%20%20%20%20%20%20%20%20%20%3C/style%3E%0A%20%20%20%20%20%20%20%20%0A%3C/head%3E%0A%3Cbody%3E%20%20%20%20%0A%20%20%20%20%0A%20%20%20%20%20%20%20%20%20%20%20%20%3Cdiv%20class%3D%22folium-map%22%20id%3D%22map_532fbad040a54326b255b7bf96b79a84%22%20%3E%3C/div%3E%0A%20%20%20%20%20%20%20%20%0A%3C/body%3E%0A%3Cscript%3E%20%20%20%20%0A%20%20%20%20%0A%0A%20%20%20%20%20%20%20%20%20%20%20%20%0A%20%20%20%20%20%20%20%20%20%20%20%20%20%20%20%20var%20bounds%20%3D%20null%3B%0A%20%20%20%20%20%20%20%20%20%20%20%20%0A%0A%20%20%20%20%20%20%20%20%20%20%20%20var%20map_532fbad040a54326b255b7bf96b79a84%20%3D%20L.map%28%0A%20%20%20%20%20%20%20%20%20%20%20%20%20%20%20%20%20%20%20%20%20%20%20%20%20%20%20%20%20%20%20%20%20%20%27map_532fbad040a54326b255b7bf96b79a84%27%2C%0A%20%20%20%20%20%20%20%20%20%20%20%20%20%20%20%20%20%20%20%20%20%20%20%20%20%20%20%20%20%20%20%20%20%20%7Bcenter%3A%20%5B34.0536909%2C-118.242766%5D%2C%0A%20%20%20%20%20%20%20%20%20%20%20%20%20%20%20%20%20%20%20%20%20%20%20%20%20%20%20%20%20%20%20%20%20%20zoom%3A%2015%2C%0A%20%20%20%20%20%20%20%20%20%20%20%20%20%20%20%20%20%20%20%20%20%20%20%20%20%20%20%20%20%20%20%20%20%20maxBounds%3A%20bounds%2C%0A%20%20%20%20%20%20%20%20%20%20%20%20%20%20%20%20%20%20%20%20%20%20%20%20%20%20%20%20%20%20%20%20%20%20layers%3A%20%5B%5D%2C%0A%20%20%20%20%20%20%20%20%20%20%20%20%20%20%20%20%20%20%20%20%20%20%20%20%20%20%20%20%20%20%20%20%20%20worldCopyJump%3A%20false%2C%0A%20%20%20%20%20%20%20%20%20%20%20%20%20%20%20%20%20%20%20%20%20%20%20%20%20%20%20%20%20%20%20%20%20%20crs%3A%20L.CRS.EPSG3857%0A%20%20%20%20%20%20%20%20%20%20%20%20%20%20%20%20%20%20%20%20%20%20%20%20%20%20%20%20%20%20%20%20%20%7D%29%3B%0A%20%20%20%20%20%20%20%20%20%20%20%20%0A%20%20%20%20%20%20%20%20%0A%20%20%20%20%0A%20%20%20%20%20%20%20%20%20%20%20%20var%20tile_layer_ea0cde1157ca45b490ec338146530431%20%3D%20L.tileLayer%28%0A%20%20%20%20%20%20%20%20%20%20%20%20%20%20%20%20%27https%3A//%7Bs%7D.tile.openstreetmap.org/%7Bz%7D/%7Bx%7D/%7By%7D.png%27%2C%0A%20%20%20%20%20%20%20%20%20%20%20%20%20%20%20%20%7B%0A%20%20%22attribution%22%3A%20null%2C%0A%20%20%22detectRetina%22%3A%20false%2C%0A%20%20%22maxZoom%22%3A%2018%2C%0A%20%20%22minZoom%22%3A%201%2C%0A%20%20%22noWrap%22%3A%20false%2C%0A%20%20%22subdomains%22%3A%20%22abc%22%0A%7D%0A%20%20%20%20%20%20%20%20%20%20%20%20%20%20%20%20%29.addTo%28map_532fbad040a54326b255b7bf96b79a84%29%3B%0A%20%20%20%20%20%20%20%20%0A%20%20%20%20%0A%20%20%20%20%20%20%20%20%20%20%20%20var%20circle_marker_30ae0c538ee94ef1914e29835ae6943f%20%3D%20L.circleMarker%28%0A%20%20%20%20%20%20%20%20%20%20%20%20%20%20%20%20%5B34.062926%2C-118.238059%5D%2C%0A%20%20%20%20%20%20%20%20%20%20%20%20%20%20%20%20%7B%0A%20%20%22bubblingMouseEvents%22%3A%20true%2C%0A%20%20%22color%22%3A%20%22blue%22%2C%0A%20%20%22dashArray%22%3A%20null%2C%0A%20%20%22dashOffset%22%3A%20null%2C%0A%20%20%22fill%22%3A%20true%2C%0A%20%20%22fillColor%22%3A%20%22%233186cc%22%2C%0A%20%20%22fillOpacity%22%3A%200.7%2C%0A%20%20%22fillRule%22%3A%20%22evenodd%22%2C%0A%20%20%22lineCap%22%3A%20%22round%22%2C%0A%20%20%22lineJoin%22%3A%20%22round%22%2C%0A%20%20%22opacity%22%3A%201.0%2C%0A%20%20%22radius%22%3A%205%2C%0A%20%20%22stroke%22%3A%20true%2C%0A%20%20%22weight%22%3A%203%0A%7D%0A%20%20%20%20%20%20%20%20%20%20%20%20%20%20%20%20%29.addTo%28map_532fbad040a54326b255b7bf96b79a84%29%3B%0A%20%20%20%20%20%20%20%20%20%20%20%20%0A%20%20%20%20%0A%20%20%20%20%20%20%20%20%20%20%20%20var%20popup_56d9075c8db3405999a5ed2c1fb80296%20%3D%20L.popup%28%7BmaxWidth%3A%20%27300%27%7D%29%3B%0A%0A%20%20%20%20%20%20%20%20%20%20%20%20%0A%20%20%20%20%20%20%20%20%20%20%20%20%20%20%20%20var%20html_5dbca8ea74344e77b066ce7c67a1c805%20%3D%20%24%28%27%3Cdiv%20id%3D%22html_5dbca8ea74344e77b066ce7c67a1c805%22%20style%3D%22width%3A%20100.0%25%3B%20height%3A%20100.0%25%3B%22%3EYang%20Chow%20Restaurant%3C/div%3E%27%29%5B0%5D%3B%0A%20%20%20%20%20%20%20%20%20%20%20%20%20%20%20%20popup_56d9075c8db3405999a5ed2c1fb80296.setContent%28html_5dbca8ea74344e77b066ce7c67a1c805%29%3B%0A%20%20%20%20%20%20%20%20%20%20%20%20%0A%0A%20%20%20%20%20%20%20%20%20%20%20%20circle_marker_30ae0c538ee94ef1914e29835ae6943f.bindPopup%28popup_56d9075c8db3405999a5ed2c1fb80296%29%3B%0A%0A%20%20%20%20%20%20%20%20%20%20%20%20%0A%20%20%20%20%20%20%20%20%0A%20%20%20%20%0A%20%20%20%20%20%20%20%20%20%20%20%20var%20circle_marker_d2eb4454acb34b53ace8d7735b8a203b%20%3D%20L.circleMarker%28%0A%20%20%20%20%20%20%20%20%20%20%20%20%20%20%20%20%5B34.066155%2C-118.237916%5D%2C%0A%20%20%20%20%20%20%20%20%20%20%20%20%20%20%20%20%7B%0A%20%20%22bubblingMouseEvents%22%3A%20true%2C%0A%20%20%22color%22%3A%20%22blue%22%2C%0A%20%20%22dashArray%22%3A%20null%2C%0A%20%20%22dashOffset%22%3A%20null%2C%0A%20%20%22fill%22%3A%20true%2C%0A%20%20%22fillColor%22%3A%20%22%233186cc%22%2C%0A%20%20%22fillOpacity%22%3A%200.7%2C%0A%20%20%22fillRule%22%3A%20%22evenodd%22%2C%0A%20%20%22lineCap%22%3A%20%22round%22%2C%0A%20%20%22lineJoin%22%3A%20%22round%22%2C%0A%20%20%22opacity%22%3A%201.0%2C%0A%20%20%22radius%22%3A%205%2C%0A%20%20%22stroke%22%3A%20true%2C%0A%20%20%22weight%22%3A%203%0A%7D%0A%20%20%20%20%20%20%20%20%20%20%20%20%20%20%20%20%29.addTo%28map_532fbad040a54326b255b7bf96b79a84%29%3B%0A%20%20%20%20%20%20%20%20%20%20%20%20%0A%20%20%20%20%0A%20%20%20%20%20%20%20%20%20%20%20%20var%20popup_dbf72ac8b7b94384be42baf5f5051b6d%20%3D%20L.popup%28%7BmaxWidth%3A%20%27300%27%7D%29%3B%0A%0A%20%20%20%20%20%20%20%20%20%20%20%20%0A%20%20%20%20%20%20%20%20%20%20%20%20%20%20%20%20var%20html_f1830819f1ea43d89a7758909db36ee2%20%3D%20%24%28%27%3Cdiv%20id%3D%22html_f1830819f1ea43d89a7758909db36ee2%22%20style%3D%22width%3A%20100.0%25%3B%20height%3A%20100.0%25%3B%22%3EFull%20House%20Seafood%20Restaurant%3C/div%3E%27%29%5B0%5D%3B%0A%20%20%20%20%20%20%20%20%20%20%20%20%20%20%20%20popup_dbf72ac8b7b94384be42baf5f5051b6d.setContent%28html_f1830819f1ea43d89a7758909db36ee2%29%3B%0A%20%20%20%20%20%20%20%20%20%20%20%20%0A%0A%20%20%20%20%20%20%20%20%20%20%20%20circle_marker_d2eb4454acb34b53ace8d7735b8a203b.bindPopup%28popup_dbf72ac8b7b94384be42baf5f5051b6d%29%3B%0A%0A%20%20%20%20%20%20%20%20%20%20%20%20%0A%20%20%20%20%20%20%20%20%0A%20%20%20%20%0A%20%20%20%20%20%20%20%20%20%20%20%20var%20circle_marker_731ffdd2038f45efa262dbc99c9e1df4%20%3D%20L.circleMarker%28%0A%20%20%20%20%20%20%20%20%20%20%20%20%20%20%20%20%5B34.054317%2C-118.241752%5D%2C%0A%20%20%20%20%20%20%20%20%20%20%20%20%20%20%20%20%7B%0A%20%20%22bubblingMouseEvents%22%3A%20true%2C%0A%20%20%22color%22%3A%20%22blue%22%2C%0A%20%20%22dashArray%22%3A%20null%2C%0A%20%20%22dashOffset%22%3A%20null%2C%0A%20%20%22fill%22%3A%20true%2C%0A%20%20%22fillColor%22%3A%20%22%233186cc%22%2C%0A%20%20%22fillOpacity%22%3A%200.7%2C%0A%20%20%22fillRule%22%3A%20%22evenodd%22%2C%0A%20%20%22lineCap%22%3A%20%22round%22%2C%0A%20%20%22lineJoin%22%3A%20%22round%22%2C%0A%20%20%22opacity%22%3A%201.0%2C%0A%20%20%22radius%22%3A%205%2C%0A%20%20%22stroke%22%3A%20true%2C%0A%20%20%22weight%22%3A%203%0A%7D%0A%20%20%20%20%20%20%20%20%20%20%20%20%20%20%20%20%29.addTo%28map_532fbad040a54326b255b7bf96b79a84%29%3B%0A%20%20%20%20%20%20%20%20%20%20%20%20%0A%20%20%20%20%0A%20%20%20%20%20%20%20%20%20%20%20%20var%20popup_5103e59ee06247e4af5ba88d00177005%20%3D%20L.popup%28%7BmaxWidth%3A%20%27300%27%7D%29%3B%0A%0A%20%20%20%20%20%20%20%20%20%20%20%20%0A%20%20%20%20%20%20%20%20%20%20%20%20%20%20%20%20var%20html_1600ac7431444bdc899945e2dfaa4822%20%3D%20%24%28%27%3Cdiv%20id%3D%22html_1600ac7431444bdc899945e2dfaa4822%22%20style%3D%22width%3A%20100.0%25%3B%20height%3A%20100.0%25%3B%22%3EWok%20Inn%20Restaurant%3C/div%3E%27%29%5B0%5D%3B%0A%20%20%20%20%20%20%20%20%20%20%20%20%20%20%20%20popup_5103e59ee06247e4af5ba88d00177005.setContent%28html_1600ac7431444bdc899945e2dfaa4822%29%3B%0A%20%20%20%20%20%20%20%20%20%20%20%20%0A%0A%20%20%20%20%20%20%20%20%20%20%20%20circle_marker_731ffdd2038f45efa262dbc99c9e1df4.bindPopup%28popup_5103e59ee06247e4af5ba88d00177005%29%3B%0A%0A%20%20%20%20%20%20%20%20%20%20%20%20%0A%20%20%20%20%20%20%20%20%0A%20%20%20%20%0A%20%20%20%20%20%20%20%20%20%20%20%20var%20circle_marker_e9488653560b4c48a6e45aceab28f728%20%3D%20L.circleMarker%28%0A%20%20%20%20%20%20%20%20%20%20%20%20%20%20%20%20%5B34.052405%2C-118.252288%5D%2C%0A%20%20%20%20%20%20%20%20%20%20%20%20%20%20%20%20%7B%0A%20%20%22bubblingMouseEvents%22%3A%20true%2C%0A%20%20%22color%22%3A%20%22blue%22%2C%0A%20%20%22dashArray%22%3A%20null%2C%0A%20%20%22dashOffset%22%3A%20null%2C%0A%20%20%22fill%22%3A%20true%2C%0A%20%20%22fillColor%22%3A%20%22%233186cc%22%2C%0A%20%20%22fillOpacity%22%3A%200.7%2C%0A%20%20%22fillRule%22%3A%20%22evenodd%22%2C%0A%20%20%22lineCap%22%3A%20%22round%22%2C%0A%20%20%22lineJoin%22%3A%20%22round%22%2C%0A%20%20%22opacity%22%3A%201.0%2C%0A%20%20%22radius%22%3A%205%2C%0A%20%20%22stroke%22%3A%20true%2C%0A%20%20%22weight%22%3A%203%0A%7D%0A%20%20%20%20%20%20%20%20%20%20%20%20%20%20%20%20%29.addTo%28map_532fbad040a54326b255b7bf96b79a84%29%3B%0A%20%20%20%20%20%20%20%20%20%20%20%20%0A%20%20%20%20%0A%20%20%20%20%20%20%20%20%20%20%20%20var%20popup_f378ce38df804000a44ccaac9a12182f%20%3D%20L.popup%28%7BmaxWidth%3A%20%27300%27%7D%29%3B%0A%0A%20%20%20%20%20%20%20%20%20%20%20%20%0A%20%20%20%20%20%20%20%20%20%20%20%20%20%20%20%20var%20html_704d986303ee4c0ba791afce32613d55%20%3D%20%24%28%27%3Cdiv%20id%3D%22html_704d986303ee4c0ba791afce32613d55%22%20style%3D%22width%3A%20100.0%25%3B%20height%3A%20100.0%25%3B%22%3ETaipan%20Restaurant%3C/div%3E%27%29%5B0%5D%3B%0A%20%20%20%20%20%20%20%20%20%20%20%20%20%20%20%20popup_f378ce38df804000a44ccaac9a12182f.setContent%28html_704d986303ee4c0ba791afce32613d55%29%3B%0A%20%20%20%20%20%20%20%20%20%20%20%20%0A%0A%20%20%20%20%20%20%20%20%20%20%20%20circle_marker_e9488653560b4c48a6e45aceab28f728.bindPopup%28popup_f378ce38df804000a44ccaac9a12182f%29%3B%0A%0A%20%20%20%20%20%20%20%20%20%20%20%20%0A%20%20%20%20%20%20%20%20%0A%20%20%20%20%0A%20%20%20%20%20%20%20%20%20%20%20%20var%20circle_marker_6e13c9974eb249a980dc7f59f6c1a1c9%20%3D%20L.circleMarker%28%0A%20%20%20%20%20%20%20%20%20%20%20%20%20%20%20%20%5B34.061958%2C-118.237509%5D%2C%0A%20%20%20%20%20%20%20%20%20%20%20%20%20%20%20%20%7B%0A%20%20%22bubblingMouseEvents%22%3A%20true%2C%0A%20%20%22color%22%3A%20%22blue%22%2C%0A%20%20%22dashArray%22%3A%20null%2C%0A%20%20%22dashOffset%22%3A%20null%2C%0A%20%20%22fill%22%3A%20true%2C%0A%20%20%22fillColor%22%3A%20%22%233186cc%22%2C%0A%20%20%22fillOpacity%22%3A%200.7%2C%0A%20%20%22fillRule%22%3A%20%22evenodd%22%2C%0A%20%20%22lineCap%22%3A%20%22round%22%2C%0A%20%20%22lineJoin%22%3A%20%22round%22%2C%0A%20%20%22opacity%22%3A%201.0%2C%0A%20%20%22radius%22%3A%205%2C%0A%20%20%22stroke%22%3A%20true%2C%0A%20%20%22weight%22%3A%203%0A%7D%0A%20%20%20%20%20%20%20%20%20%20%20%20%20%20%20%20%29.addTo%28map_532fbad040a54326b255b7bf96b79a84%29%3B%0A%20%20%20%20%20%20%20%20%20%20%20%20%0A%20%20%20%20%0A%20%20%20%20%20%20%20%20%20%20%20%20var%20popup_5d5b3f26940c492f9aa03a0c5d5272c3%20%3D%20L.popup%28%7BmaxWidth%3A%20%27300%27%7D%29%3B%0A%0A%20%20%20%20%20%20%20%20%20%20%20%20%0A%20%20%20%20%20%20%20%20%20%20%20%20%20%20%20%20var%20html_1005346ac644466f99572e5ff11ce30d%20%3D%20%24%28%27%3Cdiv%20id%3D%22html_1005346ac644466f99572e5ff11ce30d%22%20style%3D%22width%3A%20100.0%25%3B%20height%3A%20100.0%25%3B%22%3EWon%20Kok%20Restaurant%3C/div%3E%27%29%5B0%5D%3B%0A%20%20%20%20%20%20%20%20%20%20%20%20%20%20%20%20popup_5d5b3f26940c492f9aa03a0c5d5272c3.setContent%28html_1005346ac644466f99572e5ff11ce30d%29%3B%0A%20%20%20%20%20%20%20%20%20%20%20%20%0A%0A%20%20%20%20%20%20%20%20%20%20%20%20circle_marker_6e13c9974eb249a980dc7f59f6c1a1c9.bindPopup%28popup_5d5b3f26940c492f9aa03a0c5d5272c3%29%3B%0A%0A%20%20%20%20%20%20%20%20%20%20%20%20%0A%20%20%20%20%20%20%20%20%0A%20%20%20%20%0A%20%20%20%20%20%20%20%20%20%20%20%20var%20circle_marker_d6a2d5ea5f714ad680680c3d506d1186%20%3D%20L.circleMarker%28%0A%20%20%20%20%20%20%20%20%20%20%20%20%20%20%20%20%5B34.060436%2C-118.240097%5D%2C%0A%20%20%20%20%20%20%20%20%20%20%20%20%20%20%20%20%7B%0A%20%20%22bubblingMouseEvents%22%3A%20true%2C%0A%20%20%22color%22%3A%20%22blue%22%2C%0A%20%20%22dashArray%22%3A%20null%2C%0A%20%20%22dashOffset%22%3A%20null%2C%0A%20%20%22fill%22%3A%20true%2C%0A%20%20%22fillColor%22%3A%20%22%233186cc%22%2C%0A%20%20%22fillOpacity%22%3A%200.7%2C%0A%20%20%22fillRule%22%3A%20%22evenodd%22%2C%0A%20%20%22lineCap%22%3A%20%22round%22%2C%0A%20%20%22lineJoin%22%3A%20%22round%22%2C%0A%20%20%22opacity%22%3A%201.0%2C%0A%20%20%22radius%22%3A%205%2C%0A%20%20%22stroke%22%3A%20true%2C%0A%20%20%22weight%22%3A%203%0A%7D%0A%20%20%20%20%20%20%20%20%20%20%20%20%20%20%20%20%29.addTo%28map_532fbad040a54326b255b7bf96b79a84%29%3B%0A%20%20%20%20%20%20%20%20%20%20%20%20%0A%20%20%20%20%0A%20%20%20%20%20%20%20%20%20%20%20%20var%20popup_669e5938ec4f4f2abbe1697da3d10488%20%3D%20L.popup%28%7BmaxWidth%3A%20%27300%27%7D%29%3B%0A%0A%20%20%20%20%20%20%20%20%20%20%20%20%0A%20%20%20%20%20%20%20%20%20%20%20%20%20%20%20%20var%20html_282097d3491a4dd5b1962246ba1aa8c3%20%3D%20%24%28%27%3Cdiv%20id%3D%22html_282097d3491a4dd5b1962246ba1aa8c3%22%20style%3D%22width%3A%20100.0%25%3B%20height%3A%20100.0%25%3B%22%3EKeung%20Kee%20B.B.Q.%20Restaurant%3C/div%3E%27%29%5B0%5D%3B%0A%20%20%20%20%20%20%20%20%20%20%20%20%20%20%20%20popup_669e5938ec4f4f2abbe1697da3d10488.setContent%28html_282097d3491a4dd5b1962246ba1aa8c3%29%3B%0A%20%20%20%20%20%20%20%20%20%20%20%20%0A%0A%20%20%20%20%20%20%20%20%20%20%20%20circle_marker_d6a2d5ea5f714ad680680c3d506d1186.bindPopup%28popup_669e5938ec4f4f2abbe1697da3d10488%29%3B%0A%0A%20%20%20%20%20%20%20%20%20%20%20%20%0A%20%20%20%20%20%20%20%20%0A%20%20%20%20%0A%20%20%20%20%20%20%20%20%20%20%20%20var%20circle_marker_cfada451847245fbbb377fcc67d080fa%20%3D%20L.circleMarker%28%0A%20%20%20%20%20%20%20%20%20%20%20%20%20%20%20%20%5B34.050088%2C-118.240379%5D%2C%0A%20%20%20%20%20%20%20%20%20%20%20%20%20%20%20%20%7B%0A%20%20%22bubblingMouseEvents%22%3A%20true%2C%0A%20%20%22color%22%3A%20%22blue%22%2C%0A%20%20%22dashArray%22%3A%20null%2C%0A%20%20%22dashOffset%22%3A%20null%2C%0A%20%20%22fill%22%3A%20true%2C%0A%20%20%22fillColor%22%3A%20%22%233186cc%22%2C%0A%20%20%22fillOpacity%22%3A%200.7%2C%0A%20%20%22fillRule%22%3A%20%22evenodd%22%2C%0A%20%20%22lineCap%22%3A%20%22round%22%2C%0A%20%20%22lineJoin%22%3A%20%22round%22%2C%0A%20%20%22opacity%22%3A%201.0%2C%0A%20%20%22radius%22%3A%205%2C%0A%20%20%22stroke%22%3A%20true%2C%0A%20%20%22weight%22%3A%203%0A%7D%0A%20%20%20%20%20%20%20%20%20%20%20%20%20%20%20%20%29.addTo%28map_532fbad040a54326b255b7bf96b79a84%29%3B%0A%20%20%20%20%20%20%20%20%20%20%20%20%0A%20%20%20%20%0A%20%20%20%20%20%20%20%20%20%20%20%20var%20popup_273483ce65714c1cb311d23868f03084%20%3D%20L.popup%28%7BmaxWidth%3A%20%27300%27%7D%29%3B%0A%0A%20%20%20%20%20%20%20%20%20%20%20%20%0A%20%20%20%20%20%20%20%20%20%20%20%20%20%20%20%20var%20html_f085c88dacb8487b8ae0911816c131e0%20%3D%20%24%28%27%3Cdiv%20id%3D%22html_f085c88dacb8487b8ae0911816c131e0%22%20style%3D%22width%3A%20100.0%25%3B%20height%3A%20100.0%25%3B%22%3ELittle%20Sagion%20International%20Restaurant%20Group%20Headquarters%20%E5%B0%8F%E8%A5%BF%E9%BE%9A%E8%B6%8A%E5%8D%97%E7%BE%8E%E9%A3%9F%E9%9B%86%E5%9B%A2%3C/div%3E%27%29%5B0%5D%3B%0A%20%20%20%20%20%20%20%20%20%20%20%20%20%20%20%20popup_273483ce65714c1cb311d23868f03084.setContent%28html_f085c88dacb8487b8ae0911816c131e0%29%3B%0A%20%20%20%20%20%20%20%20%20%20%20%20%0A%0A%20%20%20%20%20%20%20%20%20%20%20%20circle_marker_cfada451847245fbbb377fcc67d080fa.bindPopup%28popup_273483ce65714c1cb311d23868f03084%29%3B%0A%0A%20%20%20%20%20%20%20%20%20%20%20%20%0A%20%20%20%20%20%20%20%20%0A%20%20%20%20%0A%20%20%20%20%20%20%20%20%20%20%20%20var%20circle_marker_bdf725e34a414d4ba7b7b6c352d3fe9f%20%3D%20L.circleMarker%28%0A%20%20%20%20%20%20%20%20%20%20%20%20%20%20%20%20%5B34.05869%2C-118.133156%5D%2C%0A%20%20%20%20%20%20%20%20%20%20%20%20%20%20%20%20%7B%0A%20%20%22bubblingMouseEvents%22%3A%20true%2C%0A%20%20%22color%22%3A%20%22blue%22%2C%0A%20%20%22dashArray%22%3A%20null%2C%0A%20%20%22dashOffset%22%3A%20null%2C%0A%20%20%22fill%22%3A%20true%2C%0A%20%20%22fillColor%22%3A%20%22%233186cc%22%2C%0A%20%20%22fillOpacity%22%3A%200.7%2C%0A%20%20%22fillRule%22%3A%20%22evenodd%22%2C%0A%20%20%22lineCap%22%3A%20%22round%22%2C%0A%20%20%22lineJoin%22%3A%20%22round%22%2C%0A%20%20%22opacity%22%3A%201.0%2C%0A%20%20%22radius%22%3A%205%2C%0A%20%20%22stroke%22%3A%20true%2C%0A%20%20%22weight%22%3A%203%0A%7D%0A%20%20%20%20%20%20%20%20%20%20%20%20%20%20%20%20%29.addTo%28map_532fbad040a54326b255b7bf96b79a84%29%3B%0A%20%20%20%20%20%20%20%20%20%20%20%20%0A%20%20%20%20%0A%20%20%20%20%20%20%20%20%20%20%20%20var%20popup_265372cd8d3b435a8bdd59f414010df0%20%3D%20L.popup%28%7BmaxWidth%3A%20%27300%27%7D%29%3B%0A%0A%20%20%20%20%20%20%20%20%20%20%20%20%0A%20%20%20%20%20%20%20%20%20%20%20%20%20%20%20%20var%20html_74b52144e2b0416893590d6d4a5614d1%20%3D%20%24%28%27%3Cdiv%20id%3D%22html_74b52144e2b0416893590d6d4a5614d1%22%20style%3D%22width%3A%20100.0%25%3B%20height%3A%20100.0%25%3B%22%3ENBC%20Seafood%20Restaurant%3C/div%3E%27%29%5B0%5D%3B%0A%20%20%20%20%20%20%20%20%20%20%20%20%20%20%20%20popup_265372cd8d3b435a8bdd59f414010df0.setContent%28html_74b52144e2b0416893590d6d4a5614d1%29%3B%0A%20%20%20%20%20%20%20%20%20%20%20%20%0A%0A%20%20%20%20%20%20%20%20%20%20%20%20circle_marker_bdf725e34a414d4ba7b7b6c352d3fe9f.bindPopup%28popup_265372cd8d3b435a8bdd59f414010df0%29%3B%0A%0A%20%20%20%20%20%20%20%20%20%20%20%20%0A%20%20%20%20%20%20%20%20%0A%20%20%20%20%0A%20%20%20%20%20%20%20%20%20%20%20%20var%20circle_marker_49cbeac8fd094348bc9422714bd65f0c%20%3D%20L.circleMarker%28%0A%20%20%20%20%20%20%20%20%20%20%20%20%20%20%20%20%5B34.063646%2C-118.23767%5D%2C%0A%20%20%20%20%20%20%20%20%20%20%20%20%20%20%20%20%7B%0A%20%20%22bubblingMouseEvents%22%3A%20true%2C%0A%20%20%22color%22%3A%20%22blue%22%2C%0A%20%20%22dashArray%22%3A%20null%2C%0A%20%20%22dashOffset%22%3A%20null%2C%0A%20%20%22fill%22%3A%20true%2C%0A%20%20%22fillColor%22%3A%20%22%233186cc%22%2C%0A%20%20%22fillOpacity%22%3A%200.7%2C%0A%20%20%22fillRule%22%3A%20%22evenodd%22%2C%0A%20%20%22lineCap%22%3A%20%22round%22%2C%0A%20%20%22lineJoin%22%3A%20%22round%22%2C%0A%20%20%22opacity%22%3A%201.0%2C%0A%20%20%22radius%22%3A%205%2C%0A%20%20%22stroke%22%3A%20true%2C%0A%20%20%22weight%22%3A%203%0A%7D%0A%20%20%20%20%20%20%20%20%20%20%20%20%20%20%20%20%29.addTo%28map_532fbad040a54326b255b7bf96b79a84%29%3B%0A%20%20%20%20%20%20%20%20%20%20%20%20%0A%20%20%20%20%0A%20%20%20%20%20%20%20%20%20%20%20%20var%20popup_c999ab52be14495b834d254311e28f1d%20%3D%20L.popup%28%7BmaxWidth%3A%20%27300%27%7D%29%3B%0A%0A%20%20%20%20%20%20%20%20%20%20%20%20%0A%20%20%20%20%20%20%20%20%20%20%20%20%20%20%20%20var%20html_8b2c97401f464fbea45d7ec4464604d4%20%3D%20%24%28%27%3Cdiv%20id%3D%22html_8b2c97401f464fbea45d7ec4464604d4%22%20style%3D%22width%3A%20100.0%25%3B%20height%3A%20100.0%25%3B%22%3EHop%20Woo%20BBQ%20Seafood%20Restaurant%3C/div%3E%27%29%5B0%5D%3B%0A%20%20%20%20%20%20%20%20%20%20%20%20%20%20%20%20popup_c999ab52be14495b834d254311e28f1d.setContent%28html_8b2c97401f464fbea45d7ec4464604d4%29%3B%0A%20%20%20%20%20%20%20%20%20%20%20%20%0A%0A%20%20%20%20%20%20%20%20%20%20%20%20circle_marker_49cbeac8fd094348bc9422714bd65f0c.bindPopup%28popup_c999ab52be14495b834d254311e28f1d%29%3B%0A%0A%20%20%20%20%20%20%20%20%20%20%20%20%0A%20%20%20%20%20%20%20%20%0A%20%20%20%20%0A%20%20%20%20%20%20%20%20%20%20%20%20var%20circle_marker_b8500e3c7fee4709804f5241199360e7%20%3D%20L.circleMarker%28%0A%20%20%20%20%20%20%20%20%20%20%20%20%20%20%20%20%5B34.06252%2C-118.238249%5D%2C%0A%20%20%20%20%20%20%20%20%20%20%20%20%20%20%20%20%7B%0A%20%20%22bubblingMouseEvents%22%3A%20true%2C%0A%20%20%22color%22%3A%20%22blue%22%2C%0A%20%20%22dashArray%22%3A%20null%2C%0A%20%20%22dashOffset%22%3A%20null%2C%0A%20%20%22fill%22%3A%20true%2C%0A%20%20%22fillColor%22%3A%20%22%233186cc%22%2C%0A%20%20%22fillOpacity%22%3A%200.7%2C%0A%20%20%22fillRule%22%3A%20%22evenodd%22%2C%0A%20%20%22lineCap%22%3A%20%22round%22%2C%0A%20%20%22lineJoin%22%3A%20%22round%22%2C%0A%20%20%22opacity%22%3A%201.0%2C%0A%20%20%22radius%22%3A%205%2C%0A%20%20%22stroke%22%3A%20true%2C%0A%20%20%22weight%22%3A%203%0A%7D%0A%20%20%20%20%20%20%20%20%20%20%20%20%20%20%20%20%29.addTo%28map_532fbad040a54326b255b7bf96b79a84%29%3B%0A%20%20%20%20%20%20%20%20%20%20%20%20%0A%20%20%20%20%0A%20%20%20%20%20%20%20%20%20%20%20%20var%20popup_5a9de97689f94ea386c826a385f154cf%20%3D%20L.popup%28%7BmaxWidth%3A%20%27300%27%7D%29%3B%0A%0A%20%20%20%20%20%20%20%20%20%20%20%20%0A%20%20%20%20%20%20%20%20%20%20%20%20%20%20%20%20var%20html_a15faed0c41e461b9419e67217b69fdc%20%3D%20%24%28%27%3Cdiv%20id%3D%22html_a15faed0c41e461b9419e67217b69fdc%22%20style%3D%22width%3A%20100.0%25%3B%20height%3A%20100.0%25%3B%22%3EHong%20Kong%20BBQ%20Restaurant%3C/div%3E%27%29%5B0%5D%3B%0A%20%20%20%20%20%20%20%20%20%20%20%20%20%20%20%20popup_5a9de97689f94ea386c826a385f154cf.setContent%28html_a15faed0c41e461b9419e67217b69fdc%29%3B%0A%20%20%20%20%20%20%20%20%20%20%20%20%0A%0A%20%20%20%20%20%20%20%20%20%20%20%20circle_marker_b8500e3c7fee4709804f5241199360e7.bindPopup%28popup_5a9de97689f94ea386c826a385f154cf%29%3B%0A%0A%20%20%20%20%20%20%20%20%20%20%20%20%0A%20%20%20%20%20%20%20%20%0A%3C/script%3E onload=\"this.contentDocument.open();this.contentDocument.write(    decodeURIComponent(this.getAttribute('data-html')));this.contentDocument.close();\" allowfullscreen webkitallowfullscreen mozallowfullscreen></iframe></div></div>"
      ],
      "text/plain": [
       "<folium.folium.Map at 0x7ff1f9d60ac8>"
      ]
     },
     "execution_count": 19,
     "metadata": {},
     "output_type": "execute_result"
    }
   ],
   "source": [
    "# create map of restaurants using latitude and longitude values\n",
    "map_restaurants = folium.Map(location=[latitude, longitude], zoom_start=15)\n",
    "\n",
    "# add markers to map\n",
    "for lat, lng, label in zip(chinese_restaurants['lat'].astype(float), chinese_restaurants['lng'].astype(float), chinese_restaurants['name']):\n",
    "    label = label.split(' (')[0]\n",
    "    label = folium.Popup(label, parse_html=True)\n",
    "    folium.CircleMarker([lat, lng], radius=5, popup=label, color='blue', fill=True, fill_color='#3186cc', fill_opacity=0.7, parse_html=False).add_to(map_restaurants)  \n",
    "map_restaurants"
   ]
  },
  {
   "cell_type": "markdown",
   "metadata": {},
   "source": [
    "This 'Los Angeles,CA' Chinese restaurants map will not show up in Github, but you can check it out in **Results section**.    \n",
    "\n",
    "Map of other locations will also be displayed in **Results section**."
   ]
  },
  {
   "cell_type": "markdown",
   "metadata": {},
   "source": [
    "## Results section  \n",
    "  Here's the testing location list:  \n",
    "  Bangkok, Thailand  \n",
    "  Paris, France  \n",
    "  Shenzhen, China  \n",
    "  Tokyo, Japan  \n",
    "### Chinese Restaurants information table"
   ]
  },
  {
   "cell_type": "markdown",
   "metadata": {},
   "source": [
    "Bangkok, Thailand  \n",
    "![alt text](https://raw.githubusercontent.com/Faye0924/Coursera_Capstone/master/Capstone%20Project%20-%20Result%20tables%20%26%20maps/Bangkok%2C%20Thailand%20-%20table.png \"Bangkok, Thailand - table\")"
   ]
  },
  {
   "cell_type": "markdown",
   "metadata": {},
   "source": [
    "Paris, France  \n",
    "![alt text](https://raw.githubusercontent.com/Faye0924/Coursera_Capstone/master/Capstone%20Project%20-%20Result%20tables%20%26%20maps/Paris%2C%20France%20-%20table.png \"Paris, France - table\")"
   ]
  },
  {
   "cell_type": "markdown",
   "metadata": {},
   "source": [
    "Shenzhen, China  \n",
    "![alt text](https://raw.githubusercontent.com/Faye0924/Coursera_Capstone/master/Capstone%20Project%20-%20Result%20tables%20%26%20maps/Shenzhen%2C%20China%20-%20table.png \"Shenzhen, China - table\")"
   ]
  },
  {
   "cell_type": "markdown",
   "metadata": {},
   "source": [
    "Tokyo, Japan  \n",
    "![alt text](https://raw.githubusercontent.com/Faye0924/Coursera_Capstone/master/Capstone%20Project%20-%20Result%20tables%20%26%20maps/Tokyo%2C%20Japan%20-%20table.png \"Tokyo, Japan - table\")"
   ]
  },
  {
   "cell_type": "markdown",
   "metadata": {},
   "source": [
    "#### Running the code from this project, we got some clean Chinese restaurants information dataframe, showing restaurants' name, categories, address, distance and postalCode.  \n",
    "### Chinese Restaurants Mapping"
   ]
  },
  {
   "cell_type": "markdown",
   "metadata": {},
   "source": [
    "Bangkok, Thailand  \n",
    "![alt text](https://raw.githubusercontent.com/Faye0924/Coursera_Capstone/master/Capstone%20Project%20-%20Result%20tables%20%26%20maps/Bangkok%2C%20Thailand%20-%20map.png \"Bangkok, Thailand - map\")"
   ]
  },
  {
   "cell_type": "markdown",
   "metadata": {},
   "source": [
    "Paris, France  \n",
    "![alt text](https://raw.githubusercontent.com/Faye0924/Coursera_Capstone/master/Capstone%20Project%20-%20Result%20tables%20%26%20maps/Paris%2C%20France%20-%20map.png \"Paris, France - map\")"
   ]
  },
  {
   "cell_type": "markdown",
   "metadata": {},
   "source": [
    "Shenzhen, China  \n",
    "![alt text](https://raw.githubusercontent.com/Faye0924/Coursera_Capstone/master/Capstone%20Project%20-%20Result%20tables%20%26%20maps/Shenzhen%2C%20China%20-%20map.png \"Shenzhen, China - map\")"
   ]
  },
  {
   "cell_type": "markdown",
   "metadata": {},
   "source": [
    "Tokyo, Japan  \n",
    "![alt text](https://raw.githubusercontent.com/Faye0924/Coursera_Capstone/master/Capstone%20Project%20-%20Result%20tables%20%26%20maps/Tokyo%2C%20Japan%20-%20map.png \"Tokyo, Japan - map\")"
   ]
  },
  {
   "cell_type": "markdown",
   "metadata": {},
   "source": [
    "#### Running the code from this project, we were also able to display searching location's map with nearby Chinese restaurants' name superimposed on top."
   ]
  },
  {
   "cell_type": "markdown",
   "metadata": {},
   "source": [
    "## Discussion section  \n",
    "\n",
    "  For the testing locatons, more US and China locations are selected because:   \n",
    "  US is where we live, also the starting point for this project, and I wanted to make sure this project at least works in US;   \n",
    "  China, apparently should have more Chinese restaurants categories, that why I decided to include **The eight major traditions of Chinese cuisine** into my **chinese_restaurants_list**.  \n",
    "\n",
    "  In the dataframe 'name' and 'address' columns, I kept the foreign language, because it might be useful when traveling. However, Folium mapping didn't display foreign language correctly, and it beyonded my ability to fix that for now, so I could only keep the english name in the map.\n",
    "\n",
    "  This project gives a clear table showing restaurants' name, categories, address, distance and postalCode around a certain location; also the restaurants' name superimposed on a neighborhood map.\n",
    "\n",
    "  Also, this project can be modified to search for other restaurant categories. All you have to do is to modify the **chinese_restaurants_list** to your preferred categories, just be sure to follow the comment instruction in that part."
   ]
  },
  {
   "cell_type": "markdown",
   "metadata": {},
   "source": [
    "## Conclusion section\n",
    "\n",
    "  Overall, if you love Chinese food, and always looking for Chinese restaurants when traveling, like me; or, maybe you are just sitting in front of a computer and want to explore a location, find some restaurants, this project can give you some useful information.\n",
    "\n",
    "  It's a shame that I don't have a Foursquare Premium account, otherwise, I would make the effort to extract restaurant's ratings to make this project more valueable.\n",
    "\n",
    "  This project has shown me a practical application to resolve a real world situation using Data Science tools.\n",
    "\n",
    "  I feel rewarded with the efforts and time spent. I believe this course with all the topics covered is well worthy of appreciation."
   ]
  },
  {
   "cell_type": "markdown",
   "metadata": {
    "jupyter": {
     "outputs_hidden": true
    }
   },
   "source": [
    "## Reference\n",
    "Chinese restaurant: https://en.wikipedia.org/wiki/Chinese_restaurant  \n",
    "Chinese cuisine: https://en.wikipedia.org/wiki/Chinese_cuisine  \n",
    "List of cities by international visitors: https://en.wikipedia.org/wiki/List_of_cities_by_international_visitors"
   ]
  },
  {
   "cell_type": "code",
   "execution_count": null,
   "metadata": {},
   "outputs": [],
   "source": []
  }
 ],
 "metadata": {
  "kernelspec": {
   "display_name": "Python",
   "language": "python",
   "name": "conda-env-python-py"
  },
  "language_info": {
   "codemirror_mode": {
    "name": "ipython",
    "version": 3
   },
   "file_extension": ".py",
   "mimetype": "text/x-python",
   "name": "python",
   "nbconvert_exporter": "python",
   "pygments_lexer": "ipython3",
   "version": "3.6.13"
  }
 },
 "nbformat": 4,
 "nbformat_minor": 4
}
